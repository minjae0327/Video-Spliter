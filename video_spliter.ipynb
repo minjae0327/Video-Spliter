{
 "cells": [
  {
   "cell_type": "markdown",
   "metadata": {},
   "source": [
    "## TrOCR"
   ]
  },
  {
   "cell_type": "code",
   "execution_count": 1,
   "metadata": {},
   "outputs": [
    {
     "name": "stderr",
     "output_type": "stream",
     "text": [
      "c:\\Users\\minja\\anaconda3\\envs\\TrOCR\\lib\\site-packages\\tqdm\\auto.py:21: TqdmWarning: IProgress not found. Please update jupyter and ipywidgets. See https://ipywidgets.readthedocs.io/en/stable/user_install.html\n",
      "  from .autonotebook import tqdm as notebook_tqdm\n"
     ]
    }
   ],
   "source": [
    "import cv2\n",
    "import os\n",
    "import torch\n",
    "import evaluate\n",
    "from torchvision import transforms\n",
    "from datasets import Dataset\n",
    "import pandas as pd\n",
    "from transformers import TrOCRProcessor, VisionEncoderDecoderModel, Seq2SeqTrainer, Seq2SeqTrainingArguments\n",
    "from PIL import Image, ImageOps\n",
    "import numpy as np"
   ]
  },
  {
   "cell_type": "code",
   "execution_count": 2,
   "metadata": {},
   "outputs": [],
   "source": [
    "video_path = \"dataset\\\\Installation of the MLG Hydraulic Dressings.mp4\"\n",
    "image_save_directory = \"dataset\\\\output_framesss\""
   ]
  },
  {
   "cell_type": "code",
   "execution_count": 3,
   "metadata": {},
   "outputs": [
    {
     "name": "stderr",
     "output_type": "stream",
     "text": [
      "Using a slow image processor as `use_fast` is unset and a slow processor was saved with this model. `use_fast=True` will be the default behavior in v4.52, even if the model was saved with a slow processor. This will result in minor differences in outputs. You'll still be able to use a slow processor with `use_fast=False`.\n",
      "Config of the encoder: <class 'transformers.models.vit.modeling_vit.ViTModel'> is overwritten by shared encoder config: ViTConfig {\n",
      "  \"attention_probs_dropout_prob\": 0.0,\n",
      "  \"encoder_stride\": 16,\n",
      "  \"hidden_act\": \"gelu\",\n",
      "  \"hidden_dropout_prob\": 0.0,\n",
      "  \"hidden_size\": 768,\n",
      "  \"image_size\": 384,\n",
      "  \"initializer_range\": 0.02,\n",
      "  \"intermediate_size\": 3072,\n",
      "  \"layer_norm_eps\": 1e-12,\n",
      "  \"model_type\": \"vit\",\n",
      "  \"num_attention_heads\": 12,\n",
      "  \"num_channels\": 3,\n",
      "  \"num_hidden_layers\": 12,\n",
      "  \"patch_size\": 16,\n",
      "  \"pooler_act\": \"tanh\",\n",
      "  \"pooler_output_size\": 768,\n",
      "  \"qkv_bias\": false,\n",
      "  \"torch_dtype\": \"float32\",\n",
      "  \"transformers_version\": \"4.51.3\"\n",
      "}\n",
      "\n",
      "Config of the decoder: <class 'transformers.models.trocr.modeling_trocr.TrOCRForCausalLM'> is overwritten by shared decoder config: TrOCRConfig {\n",
      "  \"activation_dropout\": 0.0,\n",
      "  \"activation_function\": \"gelu\",\n",
      "  \"add_cross_attention\": true,\n",
      "  \"attention_dropout\": 0.0,\n",
      "  \"bos_token_id\": 0,\n",
      "  \"classifier_dropout\": 0.0,\n",
      "  \"cross_attention_hidden_size\": 768,\n",
      "  \"d_model\": 1024,\n",
      "  \"decoder_attention_heads\": 16,\n",
      "  \"decoder_ffn_dim\": 4096,\n",
      "  \"decoder_layerdrop\": 0.0,\n",
      "  \"decoder_layers\": 12,\n",
      "  \"decoder_start_token_id\": 2,\n",
      "  \"dropout\": 0.1,\n",
      "  \"eos_token_id\": 2,\n",
      "  \"init_std\": 0.02,\n",
      "  \"is_decoder\": true,\n",
      "  \"layernorm_embedding\": true,\n",
      "  \"max_position_embeddings\": 512,\n",
      "  \"model_type\": \"trocr\",\n",
      "  \"pad_token_id\": 1,\n",
      "  \"scale_embedding\": false,\n",
      "  \"torch_dtype\": \"float32\",\n",
      "  \"transformers_version\": \"4.51.3\",\n",
      "  \"use_cache\": false,\n",
      "  \"use_learned_position_embeddings\": true,\n",
      "  \"vocab_size\": 50265\n",
      "}\n",
      "\n",
      "Some weights of VisionEncoderDecoderModel were not initialized from the model checkpoint at microsoft/trocr-base-printed and are newly initialized: ['encoder.pooler.dense.bias', 'encoder.pooler.dense.weight']\n",
      "You should probably TRAIN this model on a down-stream task to be able to use it for predictions and inference.\n"
     ]
    },
    {
     "data": {
      "text/plain": [
       "VisionEncoderDecoderModel(\n",
       "  (encoder): ViTModel(\n",
       "    (embeddings): ViTEmbeddings(\n",
       "      (patch_embeddings): ViTPatchEmbeddings(\n",
       "        (projection): Conv2d(3, 768, kernel_size=(16, 16), stride=(16, 16))\n",
       "      )\n",
       "      (dropout): Dropout(p=0.0, inplace=False)\n",
       "    )\n",
       "    (encoder): ViTEncoder(\n",
       "      (layer): ModuleList(\n",
       "        (0-11): 12 x ViTLayer(\n",
       "          (attention): ViTAttention(\n",
       "            (attention): ViTSelfAttention(\n",
       "              (query): Linear(in_features=768, out_features=768, bias=False)\n",
       "              (key): Linear(in_features=768, out_features=768, bias=False)\n",
       "              (value): Linear(in_features=768, out_features=768, bias=False)\n",
       "            )\n",
       "            (output): ViTSelfOutput(\n",
       "              (dense): Linear(in_features=768, out_features=768, bias=True)\n",
       "              (dropout): Dropout(p=0.0, inplace=False)\n",
       "            )\n",
       "          )\n",
       "          (intermediate): ViTIntermediate(\n",
       "            (dense): Linear(in_features=768, out_features=3072, bias=True)\n",
       "            (intermediate_act_fn): GELUActivation()\n",
       "          )\n",
       "          (output): ViTOutput(\n",
       "            (dense): Linear(in_features=3072, out_features=768, bias=True)\n",
       "            (dropout): Dropout(p=0.0, inplace=False)\n",
       "          )\n",
       "          (layernorm_before): LayerNorm((768,), eps=1e-12, elementwise_affine=True)\n",
       "          (layernorm_after): LayerNorm((768,), eps=1e-12, elementwise_affine=True)\n",
       "        )\n",
       "      )\n",
       "    )\n",
       "    (layernorm): LayerNorm((768,), eps=1e-12, elementwise_affine=True)\n",
       "    (pooler): ViTPooler(\n",
       "      (dense): Linear(in_features=768, out_features=768, bias=True)\n",
       "      (activation): Tanh()\n",
       "    )\n",
       "  )\n",
       "  (decoder): TrOCRForCausalLM(\n",
       "    (model): TrOCRDecoderWrapper(\n",
       "      (decoder): TrOCRDecoder(\n",
       "        (embed_tokens): TrOCRScaledWordEmbedding(50265, 1024, padding_idx=1)\n",
       "        (embed_positions): TrOCRLearnedPositionalEmbedding(514, 1024)\n",
       "        (layernorm_embedding): LayerNorm((1024,), eps=1e-05, elementwise_affine=True)\n",
       "        (layers): ModuleList(\n",
       "          (0-11): 12 x TrOCRDecoderLayer(\n",
       "            (self_attn): TrOCRAttention(\n",
       "              (k_proj): Linear(in_features=1024, out_features=1024, bias=True)\n",
       "              (v_proj): Linear(in_features=1024, out_features=1024, bias=True)\n",
       "              (q_proj): Linear(in_features=1024, out_features=1024, bias=True)\n",
       "              (out_proj): Linear(in_features=1024, out_features=1024, bias=True)\n",
       "            )\n",
       "            (activation_fn): GELUActivation()\n",
       "            (self_attn_layer_norm): LayerNorm((1024,), eps=1e-05, elementwise_affine=True)\n",
       "            (encoder_attn): TrOCRAttention(\n",
       "              (k_proj): Linear(in_features=768, out_features=1024, bias=True)\n",
       "              (v_proj): Linear(in_features=768, out_features=1024, bias=True)\n",
       "              (q_proj): Linear(in_features=1024, out_features=1024, bias=True)\n",
       "              (out_proj): Linear(in_features=1024, out_features=1024, bias=True)\n",
       "            )\n",
       "            (encoder_attn_layer_norm): LayerNorm((1024,), eps=1e-05, elementwise_affine=True)\n",
       "            (fc1): Linear(in_features=1024, out_features=4096, bias=True)\n",
       "            (fc2): Linear(in_features=4096, out_features=1024, bias=True)\n",
       "            (final_layer_norm): LayerNorm((1024,), eps=1e-05, elementwise_affine=True)\n",
       "          )\n",
       "        )\n",
       "      )\n",
       "    )\n",
       "    (output_projection): Linear(in_features=1024, out_features=50265, bias=False)\n",
       "  )\n",
       ")"
      ]
     },
     "execution_count": 3,
     "metadata": {},
     "output_type": "execute_result"
    }
   ],
   "source": [
    "# 1. TroCR 모델 준비\n",
    "processor = TrOCRProcessor.from_pretrained(\"microsoft/trocr-base-printed\")\n",
    "model = VisionEncoderDecoderModel.from_pretrained(\"microsoft/trocr-base-printed\")\n",
    "device = torch.device(\"cuda\" if torch.cuda.is_available() else \"cpu\")\n",
    "model.to(device)"
   ]
  },
  {
   "cell_type": "code",
   "execution_count": 5,
   "metadata": {},
   "outputs": [
    {
     "name": "stdout",
     "output_type": "stream",
     "text": [
      "ROI 영역을 드래그하세요. 완료 후 아무 키나 누르세요.\n",
      "프로그램 종료\n"
     ]
    }
   ],
   "source": [
    "# 2. 마우스로 ROI 선택\n",
    "roi = None\n",
    "cropping = False\n",
    "start_point = None\n",
    "\n",
    "def mouse_crop(event, x, y, flags, param):\n",
    "    global roi, cropping, start_point, img_copy\n",
    "\n",
    "    if event == cv2.EVENT_LBUTTONDOWN:\n",
    "        cropping = True\n",
    "        start_point = (x, y)\n",
    "\n",
    "    elif event == cv2.EVENT_LBUTTONUP:\n",
    "        cropping = False\n",
    "        end_point = (x, y)\n",
    "        x1, y1 = start_point\n",
    "        x2, y2 = end_point\n",
    "        roi = (min(x1,x2), min(y1,y2), abs(x2 - x1), abs(y2 - y1))\n",
    "        cv2.rectangle(img_copy, start_point, end_point, (0,255,0), 2)\n",
    "        cv2.imshow(\"Select ROI\", img_copy)\n",
    "\n",
    "def select_roi_from_video(video_path):\n",
    "    global img_copy\n",
    "    cap = cv2.VideoCapture(video_path)\n",
    "    ret, frame = cap.read()\n",
    "    cap.release()\n",
    "    if not ret:\n",
    "        raise Exception(\"영상에서 첫 프레임을 읽을 수 없습니다.\")\n",
    "    \n",
    "        \n",
    "    frame = cv2.resize(frame, (1920, 1080))\n",
    "    img_copy = frame.copy()\n",
    "    cv2.imshow(\"Select ROI\", img_copy)\n",
    "    cv2.setMouseCallback(\"Select ROI\", mouse_crop)\n",
    "    print(\"ROI 영역을 드래그하세요. 완료 후 아무 키나 누르세요.\")\n",
    "    key=cv2.waitKey(0)\n",
    "    \n",
    "    cv2.destroyAllWindows()\n",
    "    return roi\n",
    "\n",
    "# 3. OCR 수행 함수\n",
    "def ocr_infer(image):\n",
    "    try:\n",
    "        pil_image = Image.fromarray(image).convert(\"RGB\")\n",
    "        pixel_values = processor(images=pil_image, return_tensors=\"pt\").pixel_values.to(device)\n",
    "        generated_ids = model.generate(pixel_values)\n",
    "        generated_text = processor.batch_decode(generated_ids, skip_special_tokens=True)[0]\n",
    "        return generated_text.strip()\n",
    "    except Exception as e:\n",
    "        print(f\"OCR 실패: {e}\")\n",
    "        return None\n",
    "\n",
    "# 4. 영상 처리 및 프레임 저장\n",
    "def process_video(video_path, save_root):\n",
    "    roi_box = select_roi_from_video(video_path)\n",
    "\n",
    "    if roi_box:\n",
    "        cap = cv2.VideoCapture(video_path)\n",
    "        frame_idx = 0\n",
    "\n",
    "        if not os.path.exists(save_root):\n",
    "            os.makedirs(save_root)\n",
    "        etc_path = os.path.join(save_root, \"ETC\")\n",
    "        os.makedirs(etc_path, exist_ok=True)\n",
    "\n",
    "        while cap.isOpened():\n",
    "            ret, frame = cap.read()\n",
    "            if not ret:\n",
    "                break\n",
    "            \n",
    "            if frame_idx % 3 == 0:\n",
    "                frame = cv2.resize(frame, (1920, 1080))\n",
    "                x, y, w, h = roi_box\n",
    "                cropped = frame[y:y+h, x:x+w]\n",
    "                label = ocr_infer(cropped)\n",
    "                label = label.replace(\"/\", \"_\")\n",
    "\n",
    "                # 폴더 분류 저장\n",
    "                if label and len(label) > 0 and all(c.isprintable() for c in label):\n",
    "                    folder_name = os.path.join(save_root, label)\n",
    "                else:\n",
    "                    folder_name = etc_path\n",
    "\n",
    "                os.makedirs(folder_name, exist_ok=True)\n",
    "                save_path = os.path.join(folder_name, f\"{frame_idx:05}.jpg\")\n",
    "                cv2.imwrite(save_path, cropped)\n",
    "                print(f\"{frame_idx} 저장 → {folder_name}\")\n",
    "            \n",
    "            frame_idx += 1\n",
    "\n",
    "        cap.release()\n",
    "        \n",
    "    else:\n",
    "        print(\"프로그램 종료\")\n",
    "\n",
    "\n",
    "process_video(video_path, image_save_directory)\n"
   ]
  },
  {
   "cell_type": "code",
   "execution_count": null,
   "metadata": {},
   "outputs": [
    {
     "name": "stdout",
     "output_type": "stream",
     "text": [
      "가장 적은 프레임 수: 273\n"
     ]
    }
   ],
   "source": [
    "# 클래스 불균형 방지\n",
    "labels = os.listdir(image_save_directory)\n",
    "\n",
    "label_length = {}\n",
    "count = float(\"inf\")\n",
    "\n",
    "for label in labels:\n",
    "    if label == \"ETC\":\n",
    "        continue\n",
    "    label_path = os.path.join(image_save_directory, label)\n",
    "    \n",
    "    files = os.listdir(label_path)\n",
    "    label_length[label] = files\n",
    "\n",
    "    if count > len(files):\n",
    "        count = len(files)\n",
    "\n",
    "print(\"가장 적은 프레임 수:\", count)\n",
    "\n",
    "# count보다 적은 파일들 제거\n",
    "for label, files in label_length.items():\n",
    "    label_path = os.path.join(image_save_directory, label)\n",
    "    \n",
    "    if len(files) > count:\n",
    "        for delete_file in files[count:]:\n",
    "            os.remove(os.path.join(label_path, delete_file))"
   ]
  },
  {
   "cell_type": "code",
   "execution_count": 6,
   "metadata": {},
   "outputs": [
    {
     "name": "stderr",
     "output_type": "stream",
     "text": [
      "Map: 100%|██████████| 17745/17745 [04:39<00:00, 63.50 examples/s]  \n"
     ]
    }
   ],
   "source": [
    "# 커스텀 데이터셋 준비\n",
    "def load_data(image_root):\n",
    "    records = []\n",
    "    for label in os.listdir(image_root):\n",
    "        label_path = os.path.join(image_root, label)\n",
    "        for filename in os.listdir(label_path):\n",
    "            if filename.endswith((\".jpg\", \".png\")):\n",
    "                records.append({\n",
    "                    \"image_path\": os.path.join(label_path, filename),\n",
    "                    \"label\": label.replace(\"_\", \"/\")\n",
    "                })\n",
    "                \n",
    "    return pd.DataFrame(records)\n",
    "\n",
    "\n",
    "data = load_data(image_save_directory)\n",
    "dataset = Dataset.from_pandas(data)\n",
    "\n",
    "# 전처리\n",
    "def pad_to_square(image, target_size=384):\n",
    "    w, h = image.size\n",
    "    scale = min(target_size / w, target_size / h)\n",
    "    resized = image.resize((int(w * scale), int(h * scale)))\n",
    "    padded = ImageOps.pad(resized, (target_size, target_size), color=(0, 0, 0))\n",
    "    return padded\n",
    "\n",
    "def preprocess(data):\n",
    "    image = Image.open(data['image_path']).convert(\"RGB\")\n",
    "    image = pad_to_square(image, target_size=384)\n",
    "    pixel_values = processor(images=image, return_tensors=\"pt\").pixel_values[0]\n",
    "    labels = processor.tokenizer(data['label'], padding=\"max_length\", max_length=10, truncation=True).input_ids\n",
    "    labels = [l if l != processor.tokenizer.pad_token_id else -100 for l in labels]\n",
    "    return {\n",
    "        \"pixel_values\": pixel_values,\n",
    "        \"labels\": torch.tensor(labels)\n",
    "    }\n",
    "\n",
    "processed_dataset = dataset.map(preprocess)\n",
    "processed_dataset = processed_dataset.remove_columns([\"label\", \"image_path\"])\n",
    "\n",
    "split_dataset = processed_dataset.train_test_split(test_size=0.2)\n",
    "train_dataset = split_dataset[\"train\"]\n",
    "test_dataset = split_dataset[\"test\"]"
   ]
  },
  {
   "cell_type": "code",
   "execution_count": 7,
   "metadata": {},
   "outputs": [
    {
     "name": "stdout",
     "output_type": "stream",
     "text": [
      "📸 pixel_values (shape): torch.Size([3, 384, 384])\n",
      "pixel_values (sample): tensor([[[-1., -1., -1., -1., -1.],\n",
      "         [-1., -1., -1., -1., -1.],\n",
      "         [-1., -1., -1., -1., -1.],\n",
      "         [-1., -1., -1., -1., -1.],\n",
      "         [-1., -1., -1., -1., -1.]],\n",
      "\n",
      "        [[-1., -1., -1., -1., -1.],\n",
      "         [-1., -1., -1., -1., -1.],\n",
      "         [-1., -1., -1., -1., -1.],\n",
      "         [-1., -1., -1., -1., -1.],\n",
      "         [-1., -1., -1., -1., -1.]],\n",
      "\n",
      "        [[-1., -1., -1., -1., -1.],\n",
      "         [-1., -1., -1., -1., -1.],\n",
      "         [-1., -1., -1., -1., -1.],\n",
      "         [-1., -1., -1., -1., -1.],\n",
      "         [-1., -1., -1., -1., -1.]]])\n",
      "\n",
      "🔤 labels (token IDs): tensor([   0, 1640, 1225,   73, 3506,   43,    2, -100, -100, -100])\n",
      "label 원문: (11/65)\n",
      "🔁 디코딩된 텍스트: <s>(11/65)</s>\n"
     ]
    },
    {
     "data": {
      "image/png": "[encoded data removed]",
      "text/plain": [
       "<Figure size 640x480 with 1 Axes>"
      ]
     },
     "metadata": {},
     "output_type": "display_data"
    }
   ],
   "source": [
    "import matplotlib.pyplot as plt\n",
    "import torchvision.transforms as T\n",
    "\n",
    "# 데이터셋 로딩\n",
    "example = dataset[334]  # 첫 번째 샘플\n",
    "\n",
    "# 전처리 적용\n",
    "processed = preprocess(example)\n",
    "\n",
    "# 출력\n",
    "pixel_values = processed[\"pixel_values\"]\n",
    "print(\"📸 pixel_values (shape):\", pixel_values.shape)\n",
    "print(\"pixel_values (sample):\", pixel_values[:, :5, :5])  # 일부만 출력\n",
    "\n",
    "print(\"\\n🔤 labels (token IDs):\", processed[\"labels\"])\n",
    "print(\"label 원문:\", example[\"label\"])\n",
    "decoded = processor.tokenizer.decode([id for id in processed[\"labels\"] if id != -100])\n",
    "print(\"🔁 디코딩된 텍스트:\", decoded)\n",
    "\n",
    "inv_transform = T.Normalize(mean=[-1, -1, -1], std=[2, 2, 2])\n",
    "image_restored = inv_transform(pixel_values).clamp(0, 1)\n",
    "\n",
    "image_np = image_restored.permute(1, 2, 0).cpu().numpy()\n",
    "\n",
    "plt.imshow(image_np)\n",
    "plt.axis(\"off\")\n",
    "plt.show()"
   ]
  },
  {
   "cell_type": "code",
   "execution_count": 8,
   "metadata": {},
   "outputs": [
    {
     "name": "stderr",
     "output_type": "stream",
     "text": [
      "c:\\Users\\minja\\anaconda3\\envs\\TrOCR\\lib\\site-packages\\transformers\\models\\trocr\\processing_trocr.py:152: FutureWarning: `feature_extractor` is deprecated and will be removed in v5. Use `image_processor` instead.\n",
      "  warnings.warn(\n",
      "C:\\Users\\minja\\AppData\\Local\\Temp\\ipykernel_8716\\4211797996.py:36: FutureWarning: `tokenizer` is deprecated and will be removed in version 5.0.0 for `Seq2SeqTrainer.__init__`. Use `processing_class` instead.\n",
      "  trainer = Seq2SeqTrainer(\n"
     ]
    }
   ],
   "source": [
    "cer_metric = evaluate.load(\"cer\")\n",
    "wer_metric = evaluate.load(\"wer\")\n",
    "\n",
    "def compute_metrics(eval_pred):\n",
    "    predictions, labels = eval_pred\n",
    "\n",
    "    # -100 padding을 tokenizer pad_token_id로 바꿔서 디코딩할 수 있게 함\n",
    "    labels = [[(l if l != -100 else processor.tokenizer.pad_token_id) for l in label] for label in labels]\n",
    "\n",
    "    decoded_preds = processor.tokenizer.batch_decode(predictions, skip_special_tokens=True)\n",
    "    decoded_labels = processor.tokenizer.batch_decode(labels, skip_special_tokens=True)\n",
    "\n",
    "    cer = cer_metric.compute(predictions=decoded_preds, references=decoded_labels)\n",
    "    wer = wer_metric.compute(predictions=decoded_preds, references=decoded_labels)\n",
    "    \n",
    "    return {\n",
    "        \"cer\": cer,\n",
    "        \"wer\": wer,\n",
    "    }\n",
    "\n",
    "# 학습 설정\n",
    "training_args = Seq2SeqTrainingArguments(\n",
    "    output_dir=\"dataset/trocr_finetuned\",\n",
    "    per_device_train_batch_size = 8,\n",
    "    learning_rate = 5e-5,\n",
    "    num_train_epochs=1,\n",
    "    save_strategy=\"epoch\",\n",
    "    logging_dir=\"./logs\",\n",
    "    predict_with_generate=True,\n",
    "    generation_max_length=10,\n",
    "    fp16=torch.cuda.is_available(),\n",
    "    eval_strategy=\"epoch\",\n",
    ")\n",
    "\n",
    "# 트레이너 실행\n",
    "trainer = Seq2SeqTrainer(\n",
    "    model=model,\n",
    "    args=training_args,\n",
    "    train_dataset=train_dataset,\n",
    "    eval_dataset=test_dataset,\n",
    "    tokenizer=processor.feature_extractor,\n",
    "    compute_metrics=compute_metrics,\n",
    ")"
   ]
  },
  {
   "cell_type": "code",
   "execution_count": 9,
   "metadata": {},
   "outputs": [],
   "source": [
    "model.config.decoder_start_token_id = processor.tokenizer.cls_token_id\n",
    "model.config.pad_token_id = processor.tokenizer.pad_token_id\n",
    "model.config.eos_token_id = processor.tokenizer.eos_token_id"
   ]
  },
  {
   "cell_type": "code",
   "execution_count": 10,
   "metadata": {},
   "outputs": [
    {
     "name": "stderr",
     "output_type": "stream",
     "text": [
      "`loss_type=None` was set in the config but it is unrecognised.Using the default loss: `ForCausalLMLoss`.\n"
     ]
    },
    {
     "data": {
      "text/html": [
       "\n",
       "    <div>\n",
       "      \n",
       "      <progress value='1775' max='1775' style='width:300px; height:20px; vertical-align: middle;'></progress>\n",
       "      [1775/1775 1:06:14, Epoch 1/1]\n",
       "    </div>\n",
       "    <table border=\"1\" class=\"dataframe\">\n",
       "  <thead>\n",
       " <tr style=\"text-align: left;\">\n",
       "      <th>Epoch</th>\n",
       "      <th>Training Loss</th>\n",
       "      <th>Validation Loss</th>\n",
       "      <th>Cer</th>\n",
       "      <th>Wer</th>\n",
       "    </tr>\n",
       "  </thead>\n",
       "  <tbody>\n",
       "    <tr>\n",
       "      <td>1</td>\n",
       "      <td>0.000000</td>\n",
       "      <td>0.000001</td>\n",
       "      <td>0.562554</td>\n",
       "      <td>1.000000</td>\n",
       "    </tr>\n",
       "  </tbody>\n",
       "</table><p>"
      ],
      "text/plain": [
       "<IPython.core.display.HTML object>"
      ]
     },
     "metadata": {},
     "output_type": "display_data"
    },
    {
     "data": {
      "text/html": [
       "\n",
       "    <div>\n",
       "      \n",
       "      <progress value='444' max='444' style='width:300px; height:20px; vertical-align: middle;'></progress>\n",
       "      [444/444 13:11]\n",
       "    </div>\n",
       "    "
      ],
      "text/plain": [
       "<IPython.core.display.HTML object>"
      ]
     },
     "metadata": {},
     "output_type": "display_data"
    }
   ],
   "source": [
    "trainer.train()\n",
    "\n",
    "# 학습이 끝난 후 테스트셋에서 CER 평가\n",
    "eval_results = trainer.evaluate()"
   ]
  },
  {
   "cell_type": "code",
   "execution_count": 11,
   "metadata": {},
   "outputs": [
    {
     "name": "stdout",
     "output_type": "stream",
     "text": [
      "Test WER: 1.0000\n",
      "Test CER: 0.5626\n"
     ]
    }
   ],
   "source": [
    "print(f\"Test WER: {eval_results['eval_wer']:.4f}\")\n",
    "print(f\"Test CER: {eval_results['eval_cer']:.4f}\")"
   ]
  },
  {
   "cell_type": "code",
   "execution_count": 12,
   "metadata": {},
   "outputs": [
    {
     "data": {
      "text/plain": [
       "[]"
      ]
     },
     "execution_count": 12,
     "metadata": {},
     "output_type": "execute_result"
    }
   ],
   "source": [
    "model.save_pretrained(\"trocr_custon_model\")\n",
    "processor.save_pretrained(\"trocr_custon_model\")"
   ]
  },
  {
   "cell_type": "code",
   "execution_count": null,
   "metadata": {},
   "outputs": [],
   "source": [
    "# 저장한 모델 디렉토리로부터 로드\n",
    "model = VisionEncoderDecoderModel.from_pretrained(\"trocr_custon_model-custom\")\n",
    "processor = TrOCRProcessor.from_pretrained(\"trocr_custon_model-custom\")\n",
    "\n",
    "device = torch.device(\"cuda\" if torch.cuda.is_available() else \"cpu\")\n",
    "model.to(device)"
   ]
  },
  {
   "cell_type": "code",
   "execution_count": 13,
   "metadata": {},
   "outputs": [
    {
     "ename": "FileNotFoundError",
     "evalue": "[Errno 2] No such file or directory: 'dataset\\\\output_frames\\\\(35_65)\\\\37330.jpg'",
     "output_type": "error",
     "traceback": [
      "\u001b[1;31m---------------------------------------------------------------------------\u001b[0m",
      "\u001b[1;31mFileNotFoundError\u001b[0m                         Traceback (most recent call last)",
      "Cell \u001b[1;32mIn[13], line 14\u001b[0m\n\u001b[0;32m      9\u001b[0m     \u001b[38;5;28;01mreturn\u001b[39;00m generated_text\n\u001b[0;32m     12\u001b[0m image_path \u001b[38;5;241m=\u001b[39m \u001b[38;5;124m\"\u001b[39m\u001b[38;5;124mdataset\u001b[39m\u001b[38;5;130;01m\\\\\u001b[39;00m\u001b[38;5;124moutput_frames\u001b[39m\u001b[38;5;130;01m\\\\\u001b[39;00m\u001b[38;5;124m(35_65)\u001b[39m\u001b[38;5;130;01m\\\\\u001b[39;00m\u001b[38;5;124m37330.jpg\u001b[39m\u001b[38;5;124m\"\u001b[39m\n\u001b[1;32m---> 14\u001b[0m predicted_label \u001b[38;5;241m=\u001b[39m \u001b[43mpredict_image\u001b[49m\u001b[43m(\u001b[49m\u001b[43mimage_path\u001b[49m\u001b[43m)\u001b[49m\n\u001b[0;32m     15\u001b[0m \u001b[38;5;28mprint\u001b[39m(predicted_label)\n",
      "Cell \u001b[1;32mIn[13], line 2\u001b[0m, in \u001b[0;36mpredict_image\u001b[1;34m(image_path)\u001b[0m\n\u001b[0;32m      1\u001b[0m \u001b[38;5;28;01mdef\u001b[39;00m \u001b[38;5;21mpredict_image\u001b[39m(image_path):\n\u001b[1;32m----> 2\u001b[0m     image \u001b[38;5;241m=\u001b[39m \u001b[43mImage\u001b[49m\u001b[38;5;241;43m.\u001b[39;49m\u001b[43mopen\u001b[49m\u001b[43m(\u001b[49m\u001b[43mimage_path\u001b[49m\u001b[43m)\u001b[49m\u001b[38;5;241m.\u001b[39mconvert(\u001b[38;5;124m\"\u001b[39m\u001b[38;5;124mRGB\u001b[39m\u001b[38;5;124m\"\u001b[39m)\n\u001b[0;32m      3\u001b[0m     pixel_values \u001b[38;5;241m=\u001b[39m processor(images\u001b[38;5;241m=\u001b[39mimage, return_tensors\u001b[38;5;241m=\u001b[39m\u001b[38;5;124m\"\u001b[39m\u001b[38;5;124mpt\u001b[39m\u001b[38;5;124m\"\u001b[39m)\u001b[38;5;241m.\u001b[39mpixel_values\u001b[38;5;241m.\u001b[39mto(device)\n\u001b[0;32m      5\u001b[0m     \u001b[38;5;66;03m# 텍스트 생성\u001b[39;00m\n",
      "File \u001b[1;32mc:\\Users\\minja\\anaconda3\\envs\\TrOCR\\lib\\site-packages\\PIL\\Image.py:3505\u001b[0m, in \u001b[0;36mopen\u001b[1;34m(fp, mode, formats)\u001b[0m\n\u001b[0;32m   3502\u001b[0m     filename \u001b[38;5;241m=\u001b[39m os\u001b[38;5;241m.\u001b[39mfspath(fp)\n\u001b[0;32m   3504\u001b[0m \u001b[38;5;28;01mif\u001b[39;00m filename:\n\u001b[1;32m-> 3505\u001b[0m     fp \u001b[38;5;241m=\u001b[39m \u001b[43mbuiltins\u001b[49m\u001b[38;5;241;43m.\u001b[39;49m\u001b[43mopen\u001b[49m\u001b[43m(\u001b[49m\u001b[43mfilename\u001b[49m\u001b[43m,\u001b[49m\u001b[43m \u001b[49m\u001b[38;5;124;43m\"\u001b[39;49m\u001b[38;5;124;43mrb\u001b[39;49m\u001b[38;5;124;43m\"\u001b[39;49m\u001b[43m)\u001b[49m\n\u001b[0;32m   3506\u001b[0m     exclusive_fp \u001b[38;5;241m=\u001b[39m \u001b[38;5;28;01mTrue\u001b[39;00m\n\u001b[0;32m   3507\u001b[0m \u001b[38;5;28;01melse\u001b[39;00m:\n",
      "\u001b[1;31mFileNotFoundError\u001b[0m: [Errno 2] No such file or directory: 'dataset\\\\output_frames\\\\(35_65)\\\\37330.jpg'"
     ]
    }
   ],
   "source": [
    "def predict_image(image_path):\n",
    "    image = Image.open(image_path).convert(\"RGB\")\n",
    "    pixel_values = processor(images=image, return_tensors=\"pt\").pixel_values.to(device)\n",
    "\n",
    "    # 텍스트 생성\n",
    "    generated_ids = model.generate(pixel_values, max_length=10)\n",
    "    generated_text = processor.tokenizer.decode(generated_ids[0], skip_special_tokens=True)\n",
    "\n",
    "    return generated_text\n",
    "\n",
    "\n",
    "image_path = \"dataset\\\\output_frames\\\\(35_65)\\\\37330.jpg\"\n",
    "\n",
    "predicted_label = predict_image(image_path)\n",
    "print(predicted_label)"
   ]
  }
 ],
 "metadata": {
  "kernelspec": {
   "display_name": "TrOCR",
   "language": "python",
   "name": "python3"
  },
  "language_info": {
   "codemirror_mode": {
    "name": "ipython",
    "version": 3
   },
   "file_extension": ".py",
   "mimetype": "text/x-python",
   "name": "python",
   "nbconvert_exporter": "python",
   "pygments_lexer": "ipython3",
   "version": "3.9.6"
  }
 },
 "nbformat": 4,
 "nbformat_minor": 2
}
